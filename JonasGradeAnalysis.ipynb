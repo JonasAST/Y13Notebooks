{
  "nbformat": 4,
  "nbformat_minor": 0,
  "metadata": {
    "colab": {
      "provenance": [],
      "authorship_tag": "ABX9TyN9eF/sP8f8CfgJpqgtRB9G",
      "include_colab_link": true
    },
    "kernelspec": {
      "name": "python3",
      "display_name": "Python 3"
    },
    "language_info": {
      "name": "python"
    }
  },
  "cells": [
    {
      "cell_type": "markdown",
      "metadata": {
        "id": "view-in-github",
        "colab_type": "text"
      },
      "source": [
        "<a href=\"https://colab.research.google.com/github/JonasAST/Y13Notebooks/blob/main/JonasGradeAnalysis.ipynb\" target=\"_parent\"><img src=\"https://colab.research.google.com/assets/colab-badge.svg\" alt=\"Open In Colab\"/></a>"
      ]
    },
    {
      "cell_type": "markdown",
      "source": [
        "#grade analyser \n",
        "The following code will...\n",
        "\n",
        "1.   extract data from text file \n",
        "2.   Populate an array of objects with the data from the text file\n",
        "3.   Calculate the letter grades for each subject \n",
        "4.   Output the data  \n",
        "\n",
        "\n"
      ],
      "metadata": {
        "id": "FRxGHhpRy9ko"
      }
    },
    {
      "cell_type": "markdown",
      "source": [
        "## Extract the data from the text file"
      ],
      "metadata": {
        "id": "ZKuRZt070C9Z"
      }
    },
    {
      "cell_type": "code",
      "source": [
        "SubjectGrades = open(\"/ASsubjectgrades.txt\", \"r\")\n",
        "Subject = SubjectGrades.readline()\n",
        "print(Subject)\n",
        "while Subject != \"\":\n",
        "  Grade = SubjectGrades.readline()\n",
        "  print(\"subject: \", Subject)\n",
        "  print(\"Mark: \", Grade)\n",
        "  Subject = SubjectGrades.readline()\n",
        "\n",
        "SubjectGrades.close()\n"
      ],
      "metadata": {
        "id": "aOQzGLHv1otH",
        "outputId": "d2252a61-71e9-40c0-86b8-6b664f7ed021",
        "colab": {
          "base_uri": "https://localhost:8080/"
        }
      },
      "execution_count": 7,
      "outputs": [
        {
          "output_type": "stream",
          "name": "stdout",
          "text": [
            "Computer science \n",
            "\n",
            "subject:  Computer science \n",
            "\n",
            "Mark:  70\n",
            "\n",
            "subject:  Physics\n",
            "\n",
            "Mark:  60\n",
            "\n",
            "subject:  maths\n",
            "\n",
            "Mark:  70\n",
            "\n",
            "subject:  art\n",
            "\n",
            "Mark:  80\n",
            "\n",
            "subject:  lengua\n",
            "\n",
            "Mark:  100\n"
          ]
        }
      ]
    }
  ]
}